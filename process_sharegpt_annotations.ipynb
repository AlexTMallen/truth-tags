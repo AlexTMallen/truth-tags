{
 "cells": [
  {
   "cell_type": "code",
   "execution_count": 1,
   "metadata": {},
   "outputs": [],
   "source": [
    "import os\n",
    "\n",
    "data_path = \"data/natural\"\n",
    "\n",
    "# with open(os.path.join(data_path, \"sharegpt_7b_400.txt\"), \"r\") as f:\n",
    "#     text = f.read()\n",
    "#     transcripts = text.split(\"[[ID]]\")[1:]\n",
    "#     print(len(transcripts))\n",
    "\n",
    "# transcripts_range = transcripts[200:224]\n",
    "# text_range = \"[[ID]]\" + \"[[ID]]\".join(transcripts_range)\n",
    "# with open(os.path.join(data_path, \"Ann200-224_sharegpt_7b.txt\"), \"w\") as f:\n",
    "#     f.write(text_range)\n",
    "# print(len(transcripts_range))"
   ]
  },
  {
   "cell_type": "code",
   "execution_count": 11,
   "metadata": {},
   "outputs": [
    {
     "name": "stdout",
     "output_type": "stream",
     "text": [
      "WARNING: last number does not match number of matches in transcript 7\n",
      "WARNING: last number does not match number of matches in transcript 8\n"
     ]
    }
   ],
   "source": [
    "import re\n",
    "import os\n",
    "\n",
    "TAGS = \"SUBJ, AMBIG, COM, CODE, Q, STY, FIC, LANG, NATT, NATF, FLAG, PII, STALE\".split(\", \")\n",
    "LABELS = \"N/A, True, Maybe True, Uncertain, Maybe False, False\".split(\", \")\n",
    "annotated_path = os.path.join(data_path, \"annotated\")\n",
    "with open(os.path.join(annotated_path, \"alex50-64_sharegpt_7b.txt\"), \"r\") as f:\n",
    "    text = \"\\n\\n\" + f.read()\n",
    "\n",
    "transcripts = text.split(\"\\n\\n[[ID]] \")[1:]\n",
    "parent_ids = []\n",
    "assistant_texts = []\n",
    "all_labels = []\n",
    "all_tags = []\n",
    "\n",
    "for i, trans in enumerate(transcripts):\n",
    "    parent_id = trans[:trans.index(\"\\n\")]\n",
    "    asst_text = trans[trans.rindex(\"\\n\\nASSISTANT: \") + len(\"\\n\\nASSISTANT: \"):]\n",
    "    parent_ids.append(parent_id)\n",
    "    assistant_texts.append(asst_text)\n",
    "\n",
    "    # should match \"[[1|\", \"[[ 1 |\", \"[[ 2|\", \"[[12 |\"\n",
    "    tag_pattern = r\"\\[\\[\\s*\\d+\\s*\\|\"\n",
    "\n",
    "    labels = []\n",
    "    tags = []\n",
    "    match_iter = re.finditer(tag_pattern, asst_text)\n",
    "    matches = []\n",
    "    match = None\n",
    "    for match_num, match in enumerate(match_iter):\n",
    "        # find next instance of \"]]\" after match\n",
    "        end = asst_text.find(\"]]\", match.end())\n",
    "        if end == -1:\n",
    "            print(f\"WARNING: no end bracket found for match {match}\")\n",
    "            continue\n",
    "        annotation = asst_text[match.end():end].strip()\n",
    "        if \"#\" in annotation:\n",
    "            first_hash = annotation.index(\"#\")\n",
    "            label, tag_text = annotation[:first_hash], annotation[first_hash + 1:]\n",
    "        else:\n",
    "            label = annotation\n",
    "            tag_text = \"\"\n",
    "        label = label.strip()\n",
    "        if label not in LABELS:\n",
    "            print(f\"WARNING: unknown label {label}\")\n",
    "        labels.append(label)\n",
    "        for tag in TAGS:\n",
    "            if tag in tag_text:\n",
    "                tags.append(tag)\n",
    "                break\n",
    "        \n",
    "        matches.append(match.group())\n",
    "    \n",
    "    all_labels.append(labels)\n",
    "    all_tags.append(tags)\n",
    "\n",
    "    if match:\n",
    "        last_match = match.group()\n",
    "        last_num = int(last_match[2:-1].strip())\n",
    "        if last_num != match_num + 1:\n",
    "            print(f\"WARNING: last number does not match number of matches in transcript {i}\")\n",
    "            # print(matches)\n",
    "            # print(asst_text)\n"
   ]
  },
  {
   "cell_type": "code",
   "execution_count": 12,
   "metadata": {},
   "outputs": [],
   "source": [
    "import numpy as np\n",
    "\n",
    "l = np.concatenate(all_labels)\n",
    "t = np.concatenate(all_tags)"
   ]
  },
  {
   "cell_type": "code",
   "execution_count": 13,
   "metadata": {},
   "outputs": [
    {
     "data": {
      "text/plain": [
       "(22, 358)"
      ]
     },
     "execution_count": 13,
     "metadata": {},
     "output_type": "execute_result"
    }
   ],
   "source": [
    "sum(\"false\" in lab.lower() for lab in l), len(l)"
   ]
  },
  {
   "cell_type": "code",
   "execution_count": 10,
   "metadata": {},
   "outputs": [
    {
     "data": {
      "text/plain": [
       "255"
      ]
     },
     "execution_count": 10,
     "metadata": {},
     "output_type": "execute_result"
    }
   ],
   "source": [
    "len(t)"
   ]
  }
 ],
 "metadata": {
  "kernelspec": {
   "display_name": "Python 3",
   "language": "python",
   "name": "python3"
  },
  "language_info": {
   "codemirror_mode": {
    "name": "ipython",
    "version": 3
   },
   "file_extension": ".py",
   "mimetype": "text/x-python",
   "name": "python",
   "nbconvert_exporter": "python",
   "pygments_lexer": "ipython3",
   "version": "3.11.5"
  },
  "orig_nbformat": 4
 },
 "nbformat": 4,
 "nbformat_minor": 2
}
